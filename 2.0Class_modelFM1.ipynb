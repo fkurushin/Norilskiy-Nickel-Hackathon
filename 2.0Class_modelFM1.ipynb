{
 "cells": [
  {
   "cell_type": "markdown",
   "metadata": {},
   "source": [
    "## Модель для ФМ 1"
   ]
  },
  {
   "cell_type": "code",
   "execution_count": 10,
   "metadata": {},
   "outputs": [],
   "source": [
    "import pandas as pd\n",
    "from sklearn.model_selection import train_test_split\n",
    "from sklearn.ensemble import RandomForestClassifier\n",
    "from sklearn.metrics import accuracy_score, f1_score\n",
    "from datetime import datetime\n",
    "from sklearn.model_selection import GridSearchCV"
   ]
  },
  {
   "cell_type": "code",
   "execution_count": 11,
   "metadata": {},
   "outputs": [],
   "source": [
    "base_path = r'C:\\Users\\User\\Desktop\\Проекты\\Хакатон_норникель\\dataset\\\\'\n",
    "file_name = r'df_hack_final.csv'\n",
    "test_file = r'test.csv'\n",
    "\n",
    "df = pd.read_csv(base_path+file_name)\n",
    "test = pd.read_csv(base_path+test_file)\n",
    "\n",
    "#предобоработка даннны\n",
    "df['MEAS_DT'] = pd.to_datetime(df['MEAS_DT'])\n",
    "df['Ni_rec'] = df['Ni_rec'].replace({1: None})"
   ]
  },
  {
   "cell_type": "code",
   "execution_count": 12,
   "metadata": {},
   "outputs": [],
   "source": [
    "def making_features_1fm(df, avg_std_start, shift, col, cols):\n",
    "    model_1fm = df[cols]\n",
    "    model_1fm = model_1fm.reset_index(drop=True)\n",
    "    model_1fm['avg_std'] = model_1fm[col].expanding().std()\n",
    "    model_1fm.at[0, 'avg_std'] = avg_std_start\n",
    "    model_1fm.dropna(inplace=True)\n",
    "    model_1fm['target'] = model_1fm[col].shift(shift)\n",
    "    model_1fm.dropna(inplace=True)\n",
    "    model_1fm['target'] = ((model_1fm['target'] > (model_1fm['avg_std']+model_1fm[col])) |\n",
    "                        (model_1fm['target'] < (model_1fm[col]-model_1fm['avg_std'])))\n",
    "    model_1fm['target'] = model_1fm['target'].astype(int)\n",
    "\n",
    "    return model_1fm"
   ]
  },
  {
   "cell_type": "code",
   "execution_count": 13,
   "metadata": {},
   "outputs": [],
   "source": [
    "date_start = datetime(2024, 10, 6, 0, 0, 0)\n",
    "date_end = datetime(2024, 11, 11, 0, 0, 0)\n",
    "df = df.query('MEAS_DT>@date_start & MEAS_DT<@date_end')\n",
    "\n",
    "cols_train = ['Ore_mass','Mass_1','Dens_1','Cu_1.1C','Ni_1.1C', 'Cu_oreth', 'Ni_oreth', 'Cu_resth', 'Ni_resth']\n",
    "cols_test = ['Ore_mass','Mass_1','Dens_1','Cu_1.2C','Ni_1.2C', 'Cu_oreth', 'Ni_oreth', 'Cu_resth', 'Ni_resth']\n",
    "train_cu = making_features_1fm(df, 0.1, -8, 'Cu_1.1C', cols_train)\n",
    "test_cu = making_features_1fm(df, 0.1, -8, 'Cu_1.2C', cols_test)\n",
    "train_ni = making_features_1fm(df, 0.1, -8, 'Ni_1.1C', cols_train)\n",
    "test_ni = making_features_1fm(df, 0.07, -8, 'Ni_1.2C', cols_test)\n",
    "\n",
    "train_cu = train_cu.rename(columns={'Cu_1.1C':'concentration_cu', 'Cu_1.2C':'concentration_cu', 'Ni_1.1C':'concentration_ni', 'Ni_1.2C':'concentration_ni'})\n",
    "test_cu = test_cu.rename(columns={'Cu_1.1C':'concentration_cu', 'Cu_1.2C':'concentration_cu', 'Ni_1.1C':'concentration_ni', 'Ni_1.2C':'concentration_ni'})\n",
    "train_ni = train_ni.rename(columns={'Cu_1.1C':'concentration_cu', 'Cu_1.2C':'concentration_cu', 'Ni_1.1C':'concentration_ni', 'Ni_1.2C':'concentration_ni'})\n",
    "test_ni = test_ni.rename(columns={'Cu_1.1C':'concentration_cu', 'Cu_1.2C':'concentration_cu', 'Ni_1.1C':'concentration_ni', 'Ni_1.2C':'concentration_ni'})"
   ]
  },
  {
   "cell_type": "code",
   "execution_count": 18,
   "metadata": {},
   "outputs": [
    {
     "name": "stdout",
     "output_type": "stream",
     "text": [
      "Accuracy: 0.7274305555555556\n"
     ]
    }
   ],
   "source": [
    "features = train_cu.drop(\"target\", axis=1)\n",
    "target = train_cu['target']\n",
    "\n",
    "\n",
    "X_train, X_test, y_train, y_test = train_test_split(features, target, test_size=0.2, stratify=target,random_state=179)\n",
    "\n",
    "\n",
    "param_grid = {\n",
    "    'n_estimators': [100, 200, 300],\n",
    "    'max_depth': [None, 5, 10, 15],\n",
    "    'min_samples_split': [2, 5, 10],\n",
    "    'min_samples_leaf': [2, 3, 5],\n",
    "}\n",
    "\n",
    "model = RandomForestClassifier(random_state=179)\n",
    "\n",
    "# Best parameters: {'max_depth': None, 'min_samples_leaf': 2, 'min_samples_split': 5, 'n_estimators': 300}\n",
    "# grid_search = GridSearchCV(model, param_grid, cv=5, scoring='f1_macro')\n",
    "# grid_search.fit(X_train, y_train)\n",
    "# best_params = grid_search.best_params_\n",
    "# print(\"Best parameters:\", best_params)\n",
    "\n",
    "tunned_model = RandomForestClassifier(max_depth=None, min_samples_leaf= 2, min_samples_split=5, n_estimators=300)\n",
    "tunned_model.fit(X_train, y_train)\n",
    "\n",
    "print(\"Accuracy:\", tunned_model.score(X_test, y_test))\n",
    "\n",
    "valid_features = test_cu.drop(\"target\", axis=1)\n",
    "valid_target = test_cu['target']\n",
    "\n",
    "\n"
   ]
  },
  {
   "cell_type": "code",
   "execution_count": 16,
   "metadata": {},
   "outputs": [
    {
     "name": "stdout",
     "output_type": "stream",
     "text": [
      "Validation Accuracy: 0.5898026315789474\n",
      "F1 Score: 0.4937068615509541\n"
     ]
    }
   ],
   "source": [
    "predictions = tunned_model.predict(valid_features)\n",
    "valid_accuracy = accuracy_score(valid_target, predictions)\n",
    "valid_f1 = f1_score(valid_target, predictions)\n",
    "\n",
    "print(\"Validation Accuracy:\", valid_accuracy)\n",
    "print(\"F1 Score:\", valid_f1)"
   ]
  }
 ],
 "metadata": {
  "kernelspec": {
   "display_name": "Python 3",
   "language": "python",
   "name": "python3"
  },
  "language_info": {
   "codemirror_mode": {
    "name": "ipython",
    "version": 3
   },
   "file_extension": ".py",
   "mimetype": "text/x-python",
   "name": "python",
   "nbconvert_exporter": "python",
   "pygments_lexer": "ipython3",
   "version": "3.13.0"
  }
 },
 "nbformat": 4,
 "nbformat_minor": 2
}
