{
 "cells": [
  {
   "cell_type": "code",
   "execution_count": 3,
   "metadata": {},
   "outputs": [],
   "source": [
    "import pandas as pd\n",
    "from datetime import datetime"
   ]
  },
  {
   "cell_type": "code",
   "execution_count": 4,
   "metadata": {},
   "outputs": [],
   "source": [
    "df = pd.read_csv(\"data/df_hack_final.csv\")"
   ]
  },
  {
   "cell_type": "code",
   "execution_count": 7,
   "metadata": {},
   "outputs": [
    {
     "data": {
      "text/plain": [
       "['MEAS_DT',\n",
       " 'Cu_oreth',\n",
       " 'Ni_oreth',\n",
       " 'Ore_mass',\n",
       " 'Mass_1',\n",
       " 'Mass_2',\n",
       " 'Dens_4',\n",
       " 'Mass_4',\n",
       " 'Vol_4',\n",
       " 'Cu_4F',\n",
       " 'Ni_4F',\n",
       " 'Ni_4.1C',\n",
       " 'Ni_4.1C_max',\n",
       " 'Ni_4.1C_min',\n",
       " 'Ni_4.1T',\n",
       " 'Ni_4.1T_max',\n",
       " 'Ni_4.1T_min',\n",
       " 'FM_4.1_A',\n",
       " 'Ni_4.2C',\n",
       " 'Ni_4.2C_max',\n",
       " 'Ni_4.2C_min',\n",
       " 'Ni_4.2T',\n",
       " 'Ni_4.2T_max',\n",
       " 'Ni_4.2T_min',\n",
       " 'FM_4.2_A',\n",
       " 'Dens_5',\n",
       " 'Mass_5',\n",
       " 'Vol_5',\n",
       " 'Ni_5F',\n",
       " 'Ni_5.1C',\n",
       " 'Ni_5.1C_max',\n",
       " 'Ni_5.1C_min',\n",
       " 'Ni_5.1T',\n",
       " 'Ni_5.1T_max',\n",
       " 'Ni_5.1T_min',\n",
       " 'FM_5.1_A',\n",
       " 'Ni_5.2C',\n",
       " 'Ni_5.2C_max',\n",
       " 'Ni_5.2C_min',\n",
       " 'Ni_5.2T',\n",
       " 'Ni_5.2T_max',\n",
       " 'Ni_5.2T_min',\n",
       " 'FM_5.2_A',\n",
       " 'Dens_6',\n",
       " 'Mass_6',\n",
       " 'Vol_6',\n",
       " 'Ni_6F',\n",
       " 'Ni_6.1C',\n",
       " 'Ni_6.1C_max',\n",
       " 'Ni_6.1C_min',\n",
       " 'Ni_6.1T',\n",
       " 'Ni_6.1T_max',\n",
       " 'Ni_6.1T_min',\n",
       " 'FM_6.1_A',\n",
       " 'Ni_6.2C',\n",
       " 'Ni_6.2C_max',\n",
       " 'Ni_6.2C_min',\n",
       " 'Ni_6.2T',\n",
       " 'Ni_6.2T_max',\n",
       " 'Ni_6.2T_min',\n",
       " 'FM_6.2_A',\n",
       " 'Cu_resth',\n",
       " 'Ni_resth',\n",
       " 'Cu_1.1C',\n",
       " 'Ni_1.1C',\n",
       " 'Cu_1.2C',\n",
       " 'Ni_1.2C',\n",
       " 'Cu_2F',\n",
       " 'Ni_2F',\n",
       " 'Cu_2.1C',\n",
       " 'Ni_2.1C',\n",
       " 'Cu_2.2C',\n",
       " 'Ni_2.2C',\n",
       " 'Cu_3F',\n",
       " 'Ni_3F',\n",
       " 'Cu_3.1C',\n",
       " 'Ni_3.1C',\n",
       " 'Cu_3.2C',\n",
       " 'Ni_3.2C',\n",
       " 'Cu_2.1T',\n",
       " 'Ni_2.1T',\n",
       " 'Cu_2.2T',\n",
       " 'Ni_2.2T',\n",
       " 'Cu_3.1T',\n",
       " 'Ni_3.1T',\n",
       " 'Cu_3.2T',\n",
       " 'Ni_3.2T',\n",
       " 'Dens_3',\n",
       " 'Dens_1',\n",
       " 'Dens_2',\n",
       " 'Mass_3',\n",
       " 'FM_1.1_A',\n",
       " 'Cu_1.1C_max',\n",
       " 'Cu_1.1C_min',\n",
       " 'Ni_1.1C_max',\n",
       " 'Ni_1.1C_min',\n",
       " 'Ni_1.1T_max',\n",
       " 'Ni_1.1T_min',\n",
       " 'FM_1.2_A',\n",
       " 'Cu_1.2C_max',\n",
       " 'Cu_1.2C_min',\n",
       " 'Ni_1.2C_max',\n",
       " 'Ni_1.2C_min',\n",
       " 'Ni_1.2T_max',\n",
       " 'Ni_1.2T_min',\n",
       " 'FM_2.1_A',\n",
       " 'Cu_2.1C_max',\n",
       " 'Cu_2.1C_min',\n",
       " 'Cu_2.1T_max',\n",
       " 'Cu_2.1T_min',\n",
       " 'FM_2.2_A',\n",
       " 'Cu_2.2C_max',\n",
       " 'Cu_2.2C_min',\n",
       " 'Cu_2.2T_max',\n",
       " 'Cu_2.2T_min',\n",
       " 'FM_3.1_A',\n",
       " 'Cu_3.1C_max',\n",
       " 'Cu_3.1C_min',\n",
       " 'Ni_3.1C_max',\n",
       " 'Ni_3.1C_min',\n",
       " 'Cu_3.1T_max',\n",
       " 'Cu_3.1T_min',\n",
       " 'FM_3.2_A',\n",
       " 'Cu_3.2C_max',\n",
       " 'Cu_3.2C_min',\n",
       " 'Ni_3.2C_max',\n",
       " 'Ni_3.2C_min',\n",
       " 'Cu_3.2T_max',\n",
       " 'Cu_3.2T_min',\n",
       " 'Ni_rec']"
      ]
     },
     "execution_count": 7,
     "metadata": {},
     "output_type": "execute_result"
    }
   ],
   "source": [
    "df.columns.tolist()"
   ]
  },
  {
   "cell_type": "markdown",
   "metadata": {},
   "source": [
    "#### Формат имен признаков:\n",
    "- Ni_rec – извлечение никеля в готовый никелевый продукт, концентрат (значение может отсутствовать, валидны только меньше 1 и больше 0),\n",
    "- Ore, oreth – имена, которые означают признаки рудного сгустителя (Ore thickener) и на входе первой ФМ (напомним, ФМ – флотомашина),\n",
    "- resth – имена, которые означают признаки сгустителя с готовым никелевым продуктом (Final Ni thickener).\n",
    "- Физические характеристики: Mass (масса), Dens (плотность), Vol (объём), Ni (никель), Cu (медь), AU (флаг автоуправления, если оптимизатор управления ФМ включен, то равен 1 – фактические диапазоны на этой ФМ актуальны, в противном случае диапазонам не следует доверять, так как не обновлялись после выключения оптимизатора)\n",
    "- Суффиксы имён ФМ (положения в цепи агрегатов): 1.1, 1.2, …, 6.2 (см Схему флотации).\n",
    "- Суффиксы продуктов: F – питание ФМ, C – концентрат ФМ, T – хвосты ФМ.\n",
    "- Суффиксы границ фактических диапазонов, которые были выставлены технологом для оптимизатора ФМ: min, max.\n"
   ]
  },
  {
   "cell_type": "code",
   "execution_count": 6,
   "metadata": {},
   "outputs": [],
   "source": [
    "df = df.astype({'MEAS_DT': 'datetime64[ns]'})"
   ]
  },
  {
   "cell_type": "code",
   "execution_count": 7,
   "metadata": {},
   "outputs": [
    {
     "data": {
      "text/html": [
       "<div>\n",
       "<style scoped>\n",
       "    .dataframe tbody tr th:only-of-type {\n",
       "        vertical-align: middle;\n",
       "    }\n",
       "\n",
       "    .dataframe tbody tr th {\n",
       "        vertical-align: top;\n",
       "    }\n",
       "\n",
       "    .dataframe thead th {\n",
       "        text-align: right;\n",
       "    }\n",
       "</style>\n",
       "<table border=\"1\" class=\"dataframe\">\n",
       "  <thead>\n",
       "    <tr style=\"text-align: right;\">\n",
       "      <th></th>\n",
       "      <th>MEAS_DT</th>\n",
       "      <th>Cu_oreth</th>\n",
       "      <th>Ni_oreth</th>\n",
       "      <th>Ore_mass</th>\n",
       "      <th>Mass_1</th>\n",
       "      <th>Mass_2</th>\n",
       "      <th>Dens_4</th>\n",
       "      <th>Mass_4</th>\n",
       "      <th>Vol_4</th>\n",
       "      <th>Cu_4F</th>\n",
       "      <th>...</th>\n",
       "      <th>Cu_3.1T_max</th>\n",
       "      <th>Cu_3.1T_min</th>\n",
       "      <th>FM_3.2_A</th>\n",
       "      <th>Cu_3.2C_max</th>\n",
       "      <th>Cu_3.2C_min</th>\n",
       "      <th>Ni_3.2C_max</th>\n",
       "      <th>Ni_3.2C_min</th>\n",
       "      <th>Cu_3.2T_max</th>\n",
       "      <th>Cu_3.2T_min</th>\n",
       "      <th>Ni_rec</th>\n",
       "    </tr>\n",
       "  </thead>\n",
       "  <tbody>\n",
       "    <tr>\n",
       "      <th>count</th>\n",
       "      <td>30336</td>\n",
       "      <td>26213.000000</td>\n",
       "      <td>26213.000000</td>\n",
       "      <td>30336.000000</td>\n",
       "      <td>30336.000000</td>\n",
       "      <td>30336.000000</td>\n",
       "      <td>30336.000000</td>\n",
       "      <td>30336.000000</td>\n",
       "      <td>30336.000000</td>\n",
       "      <td>26083.000000</td>\n",
       "      <td>...</td>\n",
       "      <td>30335.000000</td>\n",
       "      <td>30335.000000</td>\n",
       "      <td>30335.000000</td>\n",
       "      <td>30335.000000</td>\n",
       "      <td>30335.000000</td>\n",
       "      <td>3.033500e+04</td>\n",
       "      <td>30335.0</td>\n",
       "      <td>30335.000000</td>\n",
       "      <td>30335.000000</td>\n",
       "      <td>27759.000000</td>\n",
       "    </tr>\n",
       "    <tr>\n",
       "      <th>mean</th>\n",
       "      <td>2024-06-06 23:52:29.999999744</td>\n",
       "      <td>2.712405</td>\n",
       "      <td>1.685584</td>\n",
       "      <td>1213.996028</td>\n",
       "      <td>1346.755948</td>\n",
       "      <td>789.375929</td>\n",
       "      <td>1.386676</td>\n",
       "      <td>811.542840</td>\n",
       "      <td>1520.387530</td>\n",
       "      <td>0.477034</td>\n",
       "      <td>...</td>\n",
       "      <td>1.627824</td>\n",
       "      <td>0.818042</td>\n",
       "      <td>0.331235</td>\n",
       "      <td>15.653601</td>\n",
       "      <td>13.036163</td>\n",
       "      <td>3.700000e+00</td>\n",
       "      <td>3.5</td>\n",
       "      <td>1.576072</td>\n",
       "      <td>0.863170</td>\n",
       "      <td>0.947898</td>\n",
       "    </tr>\n",
       "    <tr>\n",
       "      <th>min</th>\n",
       "      <td>2024-01-01 00:00:00</td>\n",
       "      <td>1.654600</td>\n",
       "      <td>1.141700</td>\n",
       "      <td>0.000000</td>\n",
       "      <td>-0.258293</td>\n",
       "      <td>-0.167950</td>\n",
       "      <td>0.000000</td>\n",
       "      <td>-0.083749</td>\n",
       "      <td>0.000000</td>\n",
       "      <td>0.100100</td>\n",
       "      <td>...</td>\n",
       "      <td>1.000000</td>\n",
       "      <td>0.600000</td>\n",
       "      <td>0.000000</td>\n",
       "      <td>14.000000</td>\n",
       "      <td>12.000000</td>\n",
       "      <td>3.700000e+00</td>\n",
       "      <td>3.5</td>\n",
       "      <td>1.000000</td>\n",
       "      <td>0.600000</td>\n",
       "      <td>0.594336</td>\n",
       "    </tr>\n",
       "    <tr>\n",
       "      <th>25%</th>\n",
       "      <td>2024-03-19 23:56:15</td>\n",
       "      <td>2.523700</td>\n",
       "      <td>1.574000</td>\n",
       "      <td>1133.500000</td>\n",
       "      <td>1310.454010</td>\n",
       "      <td>762.188248</td>\n",
       "      <td>1.378594</td>\n",
       "      <td>791.388550</td>\n",
       "      <td>1523.531250</td>\n",
       "      <td>0.396900</td>\n",
       "      <td>...</td>\n",
       "      <td>1.400000</td>\n",
       "      <td>0.600000</td>\n",
       "      <td>0.000000</td>\n",
       "      <td>15.000000</td>\n",
       "      <td>13.000000</td>\n",
       "      <td>3.700000e+00</td>\n",
       "      <td>3.5</td>\n",
       "      <td>1.400000</td>\n",
       "      <td>0.700000</td>\n",
       "      <td>0.933853</td>\n",
       "    </tr>\n",
       "    <tr>\n",
       "      <th>50%</th>\n",
       "      <td>2024-06-06 23:52:30</td>\n",
       "      <td>2.694400</td>\n",
       "      <td>1.685100</td>\n",
       "      <td>1274.500000</td>\n",
       "      <td>1400.961060</td>\n",
       "      <td>817.151642</td>\n",
       "      <td>1.398115</td>\n",
       "      <td>836.229218</td>\n",
       "      <td>1562.812500</td>\n",
       "      <td>0.468100</td>\n",
       "      <td>...</td>\n",
       "      <td>1.800000</td>\n",
       "      <td>0.800000</td>\n",
       "      <td>0.000000</td>\n",
       "      <td>15.500000</td>\n",
       "      <td>13.000000</td>\n",
       "      <td>3.700000e+00</td>\n",
       "      <td>3.5</td>\n",
       "      <td>1.600000</td>\n",
       "      <td>0.900000</td>\n",
       "      <td>0.943993</td>\n",
       "    </tr>\n",
       "    <tr>\n",
       "      <th>75%</th>\n",
       "      <td>2024-08-24 23:48:45</td>\n",
       "      <td>2.894800</td>\n",
       "      <td>1.792700</td>\n",
       "      <td>1395.500000</td>\n",
       "      <td>1475.273743</td>\n",
       "      <td>864.989029</td>\n",
       "      <td>1.415396</td>\n",
       "      <td>875.025543</td>\n",
       "      <td>1595.750000</td>\n",
       "      <td>0.541200</td>\n",
       "      <td>...</td>\n",
       "      <td>1.800000</td>\n",
       "      <td>0.900000</td>\n",
       "      <td>1.000000</td>\n",
       "      <td>16.500000</td>\n",
       "      <td>13.000000</td>\n",
       "      <td>3.700000e+00</td>\n",
       "      <td>3.5</td>\n",
       "      <td>1.800000</td>\n",
       "      <td>1.000000</td>\n",
       "      <td>0.966216</td>\n",
       "    </tr>\n",
       "    <tr>\n",
       "      <th>max</th>\n",
       "      <td>2024-11-11 23:45:00</td>\n",
       "      <td>4.048000</td>\n",
       "      <td>2.617300</td>\n",
       "      <td>2000.000000</td>\n",
       "      <td>2089.517578</td>\n",
       "      <td>1221.758057</td>\n",
       "      <td>1.651951</td>\n",
       "      <td>1303.474609</td>\n",
       "      <td>2028.375000</td>\n",
       "      <td>5.205700</td>\n",
       "      <td>...</td>\n",
       "      <td>2.000000</td>\n",
       "      <td>1.200000</td>\n",
       "      <td>1.000000</td>\n",
       "      <td>17.000000</td>\n",
       "      <td>15.000000</td>\n",
       "      <td>3.700000e+00</td>\n",
       "      <td>3.5</td>\n",
       "      <td>1.800000</td>\n",
       "      <td>1.300000</td>\n",
       "      <td>1.000000</td>\n",
       "    </tr>\n",
       "    <tr>\n",
       "      <th>std</th>\n",
       "      <td>NaN</td>\n",
       "      <td>0.284495</td>\n",
       "      <td>0.163395</td>\n",
       "      <td>304.202121</td>\n",
       "      <td>272.748762</td>\n",
       "      <td>153.755873</td>\n",
       "      <td>0.072671</td>\n",
       "      <td>147.976016</td>\n",
       "      <td>254.858332</td>\n",
       "      <td>0.176787</td>\n",
       "      <td>...</td>\n",
       "      <td>0.328567</td>\n",
       "      <td>0.170884</td>\n",
       "      <td>0.470665</td>\n",
       "      <td>0.901482</td>\n",
       "      <td>0.573167</td>\n",
       "      <td>8.881931e-16</td>\n",
       "      <td>0.0</td>\n",
       "      <td>0.236993</td>\n",
       "      <td>0.166731</td>\n",
       "      <td>0.020704</td>\n",
       "    </tr>\n",
       "  </tbody>\n",
       "</table>\n",
       "<p>8 rows × 130 columns</p>\n",
       "</div>"
      ],
      "text/plain": [
       "                             MEAS_DT      Cu_oreth      Ni_oreth  \\\n",
       "count                          30336  26213.000000  26213.000000   \n",
       "mean   2024-06-06 23:52:29.999999744      2.712405      1.685584   \n",
       "min              2024-01-01 00:00:00      1.654600      1.141700   \n",
       "25%              2024-03-19 23:56:15      2.523700      1.574000   \n",
       "50%              2024-06-06 23:52:30      2.694400      1.685100   \n",
       "75%              2024-08-24 23:48:45      2.894800      1.792700   \n",
       "max              2024-11-11 23:45:00      4.048000      2.617300   \n",
       "std                              NaN      0.284495      0.163395   \n",
       "\n",
       "           Ore_mass        Mass_1        Mass_2        Dens_4        Mass_4  \\\n",
       "count  30336.000000  30336.000000  30336.000000  30336.000000  30336.000000   \n",
       "mean    1213.996028   1346.755948    789.375929      1.386676    811.542840   \n",
       "min        0.000000     -0.258293     -0.167950      0.000000     -0.083749   \n",
       "25%     1133.500000   1310.454010    762.188248      1.378594    791.388550   \n",
       "50%     1274.500000   1400.961060    817.151642      1.398115    836.229218   \n",
       "75%     1395.500000   1475.273743    864.989029      1.415396    875.025543   \n",
       "max     2000.000000   2089.517578   1221.758057      1.651951   1303.474609   \n",
       "std      304.202121    272.748762    153.755873      0.072671    147.976016   \n",
       "\n",
       "              Vol_4         Cu_4F  ...   Cu_3.1T_max   Cu_3.1T_min  \\\n",
       "count  30336.000000  26083.000000  ...  30335.000000  30335.000000   \n",
       "mean    1520.387530      0.477034  ...      1.627824      0.818042   \n",
       "min        0.000000      0.100100  ...      1.000000      0.600000   \n",
       "25%     1523.531250      0.396900  ...      1.400000      0.600000   \n",
       "50%     1562.812500      0.468100  ...      1.800000      0.800000   \n",
       "75%     1595.750000      0.541200  ...      1.800000      0.900000   \n",
       "max     2028.375000      5.205700  ...      2.000000      1.200000   \n",
       "std      254.858332      0.176787  ...      0.328567      0.170884   \n",
       "\n",
       "           FM_3.2_A   Cu_3.2C_max   Cu_3.2C_min   Ni_3.2C_max  Ni_3.2C_min  \\\n",
       "count  30335.000000  30335.000000  30335.000000  3.033500e+04      30335.0   \n",
       "mean       0.331235     15.653601     13.036163  3.700000e+00          3.5   \n",
       "min        0.000000     14.000000     12.000000  3.700000e+00          3.5   \n",
       "25%        0.000000     15.000000     13.000000  3.700000e+00          3.5   \n",
       "50%        0.000000     15.500000     13.000000  3.700000e+00          3.5   \n",
       "75%        1.000000     16.500000     13.000000  3.700000e+00          3.5   \n",
       "max        1.000000     17.000000     15.000000  3.700000e+00          3.5   \n",
       "std        0.470665      0.901482      0.573167  8.881931e-16          0.0   \n",
       "\n",
       "        Cu_3.2T_max   Cu_3.2T_min        Ni_rec  \n",
       "count  30335.000000  30335.000000  27759.000000  \n",
       "mean       1.576072      0.863170      0.947898  \n",
       "min        1.000000      0.600000      0.594336  \n",
       "25%        1.400000      0.700000      0.933853  \n",
       "50%        1.600000      0.900000      0.943993  \n",
       "75%        1.800000      1.000000      0.966216  \n",
       "max        1.800000      1.300000      1.000000  \n",
       "std        0.236993      0.166731      0.020704  \n",
       "\n",
       "[8 rows x 130 columns]"
      ]
     },
     "execution_count": 7,
     "metadata": {},
     "output_type": "execute_result"
    }
   ],
   "source": [
    "df.describe()"
   ]
  },
  {
   "cell_type": "markdown",
   "metadata": {},
   "source": [
    "#### Отбор данных под каждую флотомашину"
   ]
  },
  {
   "cell_type": "code",
   "execution_count": 8,
   "metadata": {},
   "outputs": [],
   "source": [
    "import re"
   ]
  },
  {
   "cell_type": "code",
   "execution_count": 9,
   "metadata": {},
   "outputs": [],
   "source": [
    "def get_dataframe_per_fm(df, i, j):\n",
    "    non_digit_features = [col for col in df.columns.tolist() if not re.findall(r'\\d+', col)]\n",
    "    filtered_columns_1 = [col for col in df.columns.tolist() if re.findall(f'{i}\\\\.{j}', col)]\n",
    "    filtered_columns_2 = [col for col in df.columns.tolist() if re.findall(f'_{i}$', col)]\n",
    "    return df[non_digit_features+filtered_columns_1+filtered_columns_2]\n",
    "\n",
    "dfd = {f\"fm{i}.{j}\" : get_dataframe_per_fm(df, i, j) for j in range(1,3) for i in range(1,7)}"
   ]
  },
  {
   "cell_type": "markdown",
   "metadata": {},
   "source": [
    "##### Чтение тестовых данных + дока"
   ]
  },
  {
   "cell_type": "markdown",
   "metadata": {},
   "source": [
    "Требуется заполнить файл test.csv, указав границы диапазонов признаков (20 признаков => 40 значений границ) для выбранных моментов времени. Эти таймстемпы – 20 непрерывных временных отрезков с 15-минутной дискретностью. Каждый отрезок–тест-кейс, который будет оцениваться отдельно."
   ]
  },
  {
   "cell_type": "code",
   "execution_count": 10,
   "metadata": {},
   "outputs": [],
   "source": [
    "test_dataframe = pd.read_csv(\"data/test.csv\")"
   ]
  },
  {
   "cell_type": "markdown",
   "metadata": {},
   "source": [
    "- 1 смена = 1 модель = 1 батч данных\n",
    "- 'FM_1.1_A \n",
    "-  все признаки диапазонов и  типа 'FM_1.1_A'. Нужно убирать\n",
    "- prophet + time series\n",
    "- 1 модель = 1 аутпут; а не 1 фм = 1 модель\n",
    "- влияют ли другие аутпуты (другие показатели других флотомашин на нашу 1)\n",
    "- изучать не абсолютные значения признаков а их % приращения\n",
    "- объединить данные по 8 часов\n",
    "- учесть оптимайзер как категориальную фичу\n",
    "- проверить min < max\n",
    "- min может зависить и от других порогов также как и max наверное (предиктить max с учетом min)\n",
    "- output feature одной машины как input (другой)\n",
    "- есть концентрация, предиктить ее и по ней говорить min и max"
   ]
  },
  {
   "cell_type": "markdown",
   "metadata": {},
   "source": [
    "Важно! Границы фактического диапазона в файле исходных данных – значения, которые выставляли технологи производства для сервиса оптимизации флотации (по одному на каждую линию флотомашины, например, оптимизатор для ФМ1.1.), чтобы этот оптимизатор генерировал воздействия на рычаги управления флотацией на ФМ, которые обеспечат сходимость к середине этого диапазона. Обратите внимание, что сами границы, как и ширина диапазона – плод интеллектуального труда и фантазии технологов, которые работают посменно. Технолог ведёт процесс, наблюдает за большим кол-вом параметров и не всегда уделяет достаточное внимание оптимизатору и этим диапазонам – учитывайте человеческий фактор! Наиболее релевантные значения – при включении оптимизатора (см смену значения признака с суффиксом AU с 0 на 1).\n",
    "В данной задаче все границы фактических диапазонов (40 параметров типа min, max) для каждой 15-минутки ставим под сомнение и предлагаем вам сгенерировать свои варианты с учётом ограничений:\n",
    "1. Каждый диапазон (признаки min, max) можно изменить не чаще 1 раза в 2 часа (не менее 8 15-минуток подряд с одной и той же парой значений границ).\n",
    "2. Наименьшие допустимые приращения признаков min, max зависят от продукта, металла и ФМ (и одинаковы для двух линий одной ФМ). В качестве приращений используйте только кратные им значения (например, если наименьшее допустимое – 0.1, используйте 0.1, 0.2, 0.3, …):\n",
    "    - Ni_1.*C – 0.1,\n",
    "    - Cu_1.*C – 0.1,\n",
    "    - Cu_2.*T – 0.01,\n",
    "    - Cu_3.*T – 0.05,\n",
    "    - Ni_4.*T – 0.01,\n",
    "    - Ni_4.*C – 0.05,\n",
    "    - Ni_5.*T – 0.01,\n",
    "    - Ni_5.*C – 0.05,\n",
    "    - Ni_6.*T – 0.01,\n",
    "    - Ni_6.*C – 0.05."
   ]
  },
  {
   "cell_type": "code",
   "execution_count": 11,
   "metadata": {},
   "outputs": [],
   "source": [
    "# test_dataframe.isna().sum()"
   ]
  },
  {
   "cell_type": "code",
   "execution_count": 12,
   "metadata": {},
   "outputs": [],
   "source": [
    "test_dataframe = test_dataframe.astype({'MEAS_DT': 'datetime64[ns]'})"
   ]
  },
  {
   "cell_type": "code",
   "execution_count": 13,
   "metadata": {},
   "outputs": [],
   "source": [
    "dfd_test = {f\"fm{i}.{j}\" : get_dataframe_per_fm(test_dataframe, i, j) for j in range(1, 3) for i in range(1, 7)}"
   ]
  },
  {
   "cell_type": "code",
   "execution_count": 14,
   "metadata": {},
   "outputs": [],
   "source": [
    "def train_test_split(train_, test_):\n",
    "    train = pd.concat([train_, test_]).drop_duplicates(subset='MEAS_DT', keep=False)\n",
    "    test = pd.merge(test_, train_, how='inner', on='MEAS_DT', suffixes=('_y', '_X'))\n",
    "    return {\n",
    "        \"train\" : train, \n",
    "        \"test\" : test\n",
    "        }"
   ]
  },
  {
   "cell_type": "code",
   "execution_count": 15,
   "metadata": {},
   "outputs": [],
   "source": [
    "dfd_tt = {k : train_test_split(df_train_fm, dfd_test[k]) for k, df_train_fm in dfd.items()}"
   ]
  },
  {
   "cell_type": "markdown",
   "metadata": {},
   "source": [
    "feadture processing\n",
    "- MEAS_DT dropping\n",
    "- nan processing (catboost do it by itself) **[metric/loss-function RMSE do not allows nan value on target]**\n",
    "- we have also 4 features to predict so, we number of models should have been around 6 * 2 * 4 = 48"
   ]
  },
  {
   "cell_type": "code",
   "execution_count": 102,
   "metadata": {},
   "outputs": [],
   "source": [
    "from catboost import CatBoostRegressor, Pool"
   ]
  },
  {
   "cell_type": "code",
   "execution_count": 103,
   "metadata": {},
   "outputs": [],
   "source": [
    "models = {}"
   ]
  },
  {
   "cell_type": "code",
   "execution_count": 108,
   "metadata": {},
   "outputs": [
    {
     "name": "stdout",
     "output_type": "stream",
     "text": [
      "training fm1.1 : Ni_1.1C_min...\n"
     ]
    },
    {
     "data": {
      "application/vnd.jupyter.widget-view+json": {
       "model_id": "e0e2a46cfbca4f05a1acea89818c121e",
       "version_major": 2,
       "version_minor": 0
      },
      "text/plain": [
       "MetricVisualizer(layout=Layout(align_self='stretch', height='500px'))"
      ]
     },
     "metadata": {},
     "output_type": "display_data"
    },
    {
     "name": "stdout",
     "output_type": "stream",
     "text": [
      "training fm1.1 : Ni_1.1C_max...\n"
     ]
    },
    {
     "data": {
      "application/vnd.jupyter.widget-view+json": {
       "model_id": "8e82c9e40b1a46e2898cae94f3efa459",
       "version_major": 2,
       "version_minor": 0
      },
      "text/plain": [
       "MetricVisualizer(layout=Layout(align_self='stretch', height='500px'))"
      ]
     },
     "metadata": {},
     "output_type": "display_data"
    },
    {
     "name": "stdout",
     "output_type": "stream",
     "text": [
      "training fm1.1 : Cu_1.1C_min...\n"
     ]
    },
    {
     "data": {
      "application/vnd.jupyter.widget-view+json": {
       "model_id": "2d2715d7479c421198d66396782bd717",
       "version_major": 2,
       "version_minor": 0
      },
      "text/plain": [
       "MetricVisualizer(layout=Layout(align_self='stretch', height='500px'))"
      ]
     },
     "metadata": {},
     "output_type": "display_data"
    },
    {
     "name": "stdout",
     "output_type": "stream",
     "text": [
      "training fm1.1 : Cu_1.1C_max...\n"
     ]
    },
    {
     "data": {
      "application/vnd.jupyter.widget-view+json": {
       "model_id": "abbd19484c224492912b430891585a4e",
       "version_major": 2,
       "version_minor": 0
      },
      "text/plain": [
       "MetricVisualizer(layout=Layout(align_self='stretch', height='500px'))"
      ]
     },
     "metadata": {},
     "output_type": "display_data"
    },
    {
     "name": "stdout",
     "output_type": "stream",
     "text": [
      "training fm2.1 : Cu_2.1T_min...\n"
     ]
    },
    {
     "data": {
      "application/vnd.jupyter.widget-view+json": {
       "model_id": "5c27be2747504a82ba796aeb3ac70251",
       "version_major": 2,
       "version_minor": 0
      },
      "text/plain": [
       "MetricVisualizer(layout=Layout(align_self='stretch', height='500px'))"
      ]
     },
     "metadata": {},
     "output_type": "display_data"
    },
    {
     "name": "stdout",
     "output_type": "stream",
     "text": [
      "training fm2.1 : Cu_2.1T_max...\n"
     ]
    },
    {
     "data": {
      "application/vnd.jupyter.widget-view+json": {
       "model_id": "436da8ef39aa4449acf6eb4e8a28e5c5",
       "version_major": 2,
       "version_minor": 0
      },
      "text/plain": [
       "MetricVisualizer(layout=Layout(align_self='stretch', height='500px'))"
      ]
     },
     "metadata": {},
     "output_type": "display_data"
    },
    {
     "name": "stdout",
     "output_type": "stream",
     "text": [
      "training fm3.1 : Cu_3.1T_min...\n"
     ]
    },
    {
     "data": {
      "application/vnd.jupyter.widget-view+json": {
       "model_id": "12b02b38c25d4693886ce29a489e3538",
       "version_major": 2,
       "version_minor": 0
      },
      "text/plain": [
       "MetricVisualizer(layout=Layout(align_self='stretch', height='500px'))"
      ]
     },
     "metadata": {},
     "output_type": "display_data"
    },
    {
     "name": "stdout",
     "output_type": "stream",
     "text": [
      "training fm3.1 : Cu_3.1T_max...\n"
     ]
    },
    {
     "data": {
      "application/vnd.jupyter.widget-view+json": {
       "model_id": "1dbc140958b34e6c875e0b6fdfe5c400",
       "version_major": 2,
       "version_minor": 0
      },
      "text/plain": [
       "MetricVisualizer(layout=Layout(align_self='stretch', height='500px'))"
      ]
     },
     "metadata": {},
     "output_type": "display_data"
    },
    {
     "name": "stdout",
     "output_type": "stream",
     "text": [
      "training fm4.1 : Ni_4.1T_min...\n"
     ]
    },
    {
     "data": {
      "application/vnd.jupyter.widget-view+json": {
       "model_id": "20df4364790d4dee9b425c5be219486f",
       "version_major": 2,
       "version_minor": 0
      },
      "text/plain": [
       "MetricVisualizer(layout=Layout(align_self='stretch', height='500px'))"
      ]
     },
     "metadata": {},
     "output_type": "display_data"
    },
    {
     "name": "stdout",
     "output_type": "stream",
     "text": [
      "training fm4.1 : Ni_4.1T_max...\n"
     ]
    },
    {
     "data": {
      "application/vnd.jupyter.widget-view+json": {
       "model_id": "86710aae7123439486f0a9885895f079",
       "version_major": 2,
       "version_minor": 0
      },
      "text/plain": [
       "MetricVisualizer(layout=Layout(align_self='stretch', height='500px'))"
      ]
     },
     "metadata": {},
     "output_type": "display_data"
    },
    {
     "name": "stdout",
     "output_type": "stream",
     "text": [
      "training fm4.1 : Ni_4.1C_min...\n"
     ]
    },
    {
     "data": {
      "application/vnd.jupyter.widget-view+json": {
       "model_id": "0a5c454eaa13454eb9eff4566e5f9a5a",
       "version_major": 2,
       "version_minor": 0
      },
      "text/plain": [
       "MetricVisualizer(layout=Layout(align_self='stretch', height='500px'))"
      ]
     },
     "metadata": {},
     "output_type": "display_data"
    },
    {
     "name": "stdout",
     "output_type": "stream",
     "text": [
      "training fm4.1 : Ni_4.1C_max...\n"
     ]
    },
    {
     "data": {
      "application/vnd.jupyter.widget-view+json": {
       "model_id": "4cd242139f4a487ca25818e2bebc8879",
       "version_major": 2,
       "version_minor": 0
      },
      "text/plain": [
       "MetricVisualizer(layout=Layout(align_self='stretch', height='500px'))"
      ]
     },
     "metadata": {},
     "output_type": "display_data"
    },
    {
     "name": "stdout",
     "output_type": "stream",
     "text": [
      "training fm5.1 : Ni_5.1T_min...\n"
     ]
    },
    {
     "data": {
      "application/vnd.jupyter.widget-view+json": {
       "model_id": "585c258b8cec45d4ba861131a5e1cdb1",
       "version_major": 2,
       "version_minor": 0
      },
      "text/plain": [
       "MetricVisualizer(layout=Layout(align_self='stretch', height='500px'))"
      ]
     },
     "metadata": {},
     "output_type": "display_data"
    },
    {
     "name": "stdout",
     "output_type": "stream",
     "text": [
      "training fm5.1 : Ni_5.1T_max...\n"
     ]
    },
    {
     "data": {
      "application/vnd.jupyter.widget-view+json": {
       "model_id": "d24096f58dba4430bebe6bd8826c8061",
       "version_major": 2,
       "version_minor": 0
      },
      "text/plain": [
       "MetricVisualizer(layout=Layout(align_self='stretch', height='500px'))"
      ]
     },
     "metadata": {},
     "output_type": "display_data"
    },
    {
     "name": "stdout",
     "output_type": "stream",
     "text": [
      "training fm5.1 : Ni_5.1C_min...\n"
     ]
    },
    {
     "data": {
      "application/vnd.jupyter.widget-view+json": {
       "model_id": "c9527c5f374f41bbbcdfabac4183a81a",
       "version_major": 2,
       "version_minor": 0
      },
      "text/plain": [
       "MetricVisualizer(layout=Layout(align_self='stretch', height='500px'))"
      ]
     },
     "metadata": {},
     "output_type": "display_data"
    },
    {
     "name": "stdout",
     "output_type": "stream",
     "text": [
      "training fm5.1 : Ni_5.1C_max...\n"
     ]
    },
    {
     "data": {
      "application/vnd.jupyter.widget-view+json": {
       "model_id": "62953827ad4245f9a5dc833744160b28",
       "version_major": 2,
       "version_minor": 0
      },
      "text/plain": [
       "MetricVisualizer(layout=Layout(align_self='stretch', height='500px'))"
      ]
     },
     "metadata": {},
     "output_type": "display_data"
    },
    {
     "name": "stdout",
     "output_type": "stream",
     "text": [
      "training fm6.1 : Ni_6.1T_min...\n"
     ]
    },
    {
     "data": {
      "application/vnd.jupyter.widget-view+json": {
       "model_id": "90982af32bf246dab83878304ee07f37",
       "version_major": 2,
       "version_minor": 0
      },
      "text/plain": [
       "MetricVisualizer(layout=Layout(align_self='stretch', height='500px'))"
      ]
     },
     "metadata": {},
     "output_type": "display_data"
    },
    {
     "name": "stdout",
     "output_type": "stream",
     "text": [
      "training fm6.1 : Ni_6.1T_max...\n"
     ]
    },
    {
     "data": {
      "application/vnd.jupyter.widget-view+json": {
       "model_id": "f0bd7cdbf2c9470da3e28318ba2e8b67",
       "version_major": 2,
       "version_minor": 0
      },
      "text/plain": [
       "MetricVisualizer(layout=Layout(align_self='stretch', height='500px'))"
      ]
     },
     "metadata": {},
     "output_type": "display_data"
    },
    {
     "name": "stdout",
     "output_type": "stream",
     "text": [
      "training fm6.1 : Ni_6.1C_min...\n"
     ]
    },
    {
     "data": {
      "application/vnd.jupyter.widget-view+json": {
       "model_id": "f6bf1f6fe51c43d69ebfcd03e272e805",
       "version_major": 2,
       "version_minor": 0
      },
      "text/plain": [
       "MetricVisualizer(layout=Layout(align_self='stretch', height='500px'))"
      ]
     },
     "metadata": {},
     "output_type": "display_data"
    },
    {
     "name": "stdout",
     "output_type": "stream",
     "text": [
      "training fm6.1 : Ni_6.1C_max...\n"
     ]
    },
    {
     "data": {
      "application/vnd.jupyter.widget-view+json": {
       "model_id": "8e6ec4ac163843318bcdff6631bd82dd",
       "version_major": 2,
       "version_minor": 0
      },
      "text/plain": [
       "MetricVisualizer(layout=Layout(align_self='stretch', height='500px'))"
      ]
     },
     "metadata": {},
     "output_type": "display_data"
    },
    {
     "name": "stdout",
     "output_type": "stream",
     "text": [
      "training fm1.2 : Ni_1.2C_min...\n"
     ]
    },
    {
     "data": {
      "application/vnd.jupyter.widget-view+json": {
       "model_id": "2d6c16029ea8472a80715395515e4da1",
       "version_major": 2,
       "version_minor": 0
      },
      "text/plain": [
       "MetricVisualizer(layout=Layout(align_self='stretch', height='500px'))"
      ]
     },
     "metadata": {},
     "output_type": "display_data"
    },
    {
     "name": "stdout",
     "output_type": "stream",
     "text": [
      "training fm1.2 : Ni_1.2C_max...\n"
     ]
    },
    {
     "data": {
      "application/vnd.jupyter.widget-view+json": {
       "model_id": "5c50478ee4454647b5005424d42ba723",
       "version_major": 2,
       "version_minor": 0
      },
      "text/plain": [
       "MetricVisualizer(layout=Layout(align_self='stretch', height='500px'))"
      ]
     },
     "metadata": {},
     "output_type": "display_data"
    },
    {
     "name": "stdout",
     "output_type": "stream",
     "text": [
      "training fm1.2 : Cu_1.2C_min...\n"
     ]
    },
    {
     "data": {
      "application/vnd.jupyter.widget-view+json": {
       "model_id": "06b344c987294c509ba5443f750f6831",
       "version_major": 2,
       "version_minor": 0
      },
      "text/plain": [
       "MetricVisualizer(layout=Layout(align_self='stretch', height='500px'))"
      ]
     },
     "metadata": {},
     "output_type": "display_data"
    },
    {
     "name": "stdout",
     "output_type": "stream",
     "text": [
      "training fm1.2 : Cu_1.2C_max...\n"
     ]
    },
    {
     "data": {
      "application/vnd.jupyter.widget-view+json": {
       "model_id": "49efaa625c674116a768394e2f467175",
       "version_major": 2,
       "version_minor": 0
      },
      "text/plain": [
       "MetricVisualizer(layout=Layout(align_self='stretch', height='500px'))"
      ]
     },
     "metadata": {},
     "output_type": "display_data"
    },
    {
     "name": "stdout",
     "output_type": "stream",
     "text": [
      "training fm2.2 : Cu_2.2T_min...\n"
     ]
    },
    {
     "data": {
      "application/vnd.jupyter.widget-view+json": {
       "model_id": "a07091785f374c47b34e7a0fb8ee8a02",
       "version_major": 2,
       "version_minor": 0
      },
      "text/plain": [
       "MetricVisualizer(layout=Layout(align_self='stretch', height='500px'))"
      ]
     },
     "metadata": {},
     "output_type": "display_data"
    },
    {
     "name": "stdout",
     "output_type": "stream",
     "text": [
      "training fm2.2 : Cu_2.2T_max...\n"
     ]
    },
    {
     "data": {
      "application/vnd.jupyter.widget-view+json": {
       "model_id": "33c17daa32854b6a9933f348c428a165",
       "version_major": 2,
       "version_minor": 0
      },
      "text/plain": [
       "MetricVisualizer(layout=Layout(align_self='stretch', height='500px'))"
      ]
     },
     "metadata": {},
     "output_type": "display_data"
    },
    {
     "name": "stdout",
     "output_type": "stream",
     "text": [
      "training fm3.2 : Cu_3.2T_min...\n"
     ]
    },
    {
     "data": {
      "application/vnd.jupyter.widget-view+json": {
       "model_id": "fd69718c695946a295c704d9a13f11f2",
       "version_major": 2,
       "version_minor": 0
      },
      "text/plain": [
       "MetricVisualizer(layout=Layout(align_self='stretch', height='500px'))"
      ]
     },
     "metadata": {},
     "output_type": "display_data"
    },
    {
     "name": "stdout",
     "output_type": "stream",
     "text": [
      "training fm3.2 : Cu_3.2T_max...\n"
     ]
    },
    {
     "data": {
      "application/vnd.jupyter.widget-view+json": {
       "model_id": "f4a63e3857da431da88aa5584a9375bf",
       "version_major": 2,
       "version_minor": 0
      },
      "text/plain": [
       "MetricVisualizer(layout=Layout(align_self='stretch', height='500px'))"
      ]
     },
     "metadata": {},
     "output_type": "display_data"
    },
    {
     "name": "stdout",
     "output_type": "stream",
     "text": [
      "training fm4.2 : Ni_4.2T_min...\n"
     ]
    },
    {
     "data": {
      "application/vnd.jupyter.widget-view+json": {
       "model_id": "6c29da7776b0411a99625628fd014a63",
       "version_major": 2,
       "version_minor": 0
      },
      "text/plain": [
       "MetricVisualizer(layout=Layout(align_self='stretch', height='500px'))"
      ]
     },
     "metadata": {},
     "output_type": "display_data"
    },
    {
     "name": "stdout",
     "output_type": "stream",
     "text": [
      "training fm4.2 : Ni_4.2T_max...\n"
     ]
    },
    {
     "data": {
      "application/vnd.jupyter.widget-view+json": {
       "model_id": "0161f088c7ce4e5e93a9d9fe27eacd1f",
       "version_major": 2,
       "version_minor": 0
      },
      "text/plain": [
       "MetricVisualizer(layout=Layout(align_self='stretch', height='500px'))"
      ]
     },
     "metadata": {},
     "output_type": "display_data"
    },
    {
     "name": "stdout",
     "output_type": "stream",
     "text": [
      "training fm4.2 : Ni_4.2C_min...\n"
     ]
    },
    {
     "data": {
      "application/vnd.jupyter.widget-view+json": {
       "model_id": "bc14302c061f470eafda85f497ad1173",
       "version_major": 2,
       "version_minor": 0
      },
      "text/plain": [
       "MetricVisualizer(layout=Layout(align_self='stretch', height='500px'))"
      ]
     },
     "metadata": {},
     "output_type": "display_data"
    },
    {
     "name": "stdout",
     "output_type": "stream",
     "text": [
      "training fm4.2 : Ni_4.2C_max...\n"
     ]
    },
    {
     "data": {
      "application/vnd.jupyter.widget-view+json": {
       "model_id": "012b6ae546204966870857696dcc2954",
       "version_major": 2,
       "version_minor": 0
      },
      "text/plain": [
       "MetricVisualizer(layout=Layout(align_self='stretch', height='500px'))"
      ]
     },
     "metadata": {},
     "output_type": "display_data"
    },
    {
     "name": "stdout",
     "output_type": "stream",
     "text": [
      "training fm5.2 : Ni_5.2T_min...\n"
     ]
    },
    {
     "data": {
      "application/vnd.jupyter.widget-view+json": {
       "model_id": "d0082e5a47e44b748bb1a854bacede81",
       "version_major": 2,
       "version_minor": 0
      },
      "text/plain": [
       "MetricVisualizer(layout=Layout(align_self='stretch', height='500px'))"
      ]
     },
     "metadata": {},
     "output_type": "display_data"
    },
    {
     "name": "stdout",
     "output_type": "stream",
     "text": [
      "training fm5.2 : Ni_5.2T_max...\n"
     ]
    },
    {
     "data": {
      "application/vnd.jupyter.widget-view+json": {
       "model_id": "de1fdd17f7c140bf9011e2e3272965a8",
       "version_major": 2,
       "version_minor": 0
      },
      "text/plain": [
       "MetricVisualizer(layout=Layout(align_self='stretch', height='500px'))"
      ]
     },
     "metadata": {},
     "output_type": "display_data"
    },
    {
     "name": "stdout",
     "output_type": "stream",
     "text": [
      "training fm5.2 : Ni_5.2C_min...\n"
     ]
    },
    {
     "data": {
      "application/vnd.jupyter.widget-view+json": {
       "model_id": "fb0626851f5f48fa90b0482fb1e492c4",
       "version_major": 2,
       "version_minor": 0
      },
      "text/plain": [
       "MetricVisualizer(layout=Layout(align_self='stretch', height='500px'))"
      ]
     },
     "metadata": {},
     "output_type": "display_data"
    },
    {
     "name": "stdout",
     "output_type": "stream",
     "text": [
      "training fm5.2 : Ni_5.2C_max...\n"
     ]
    },
    {
     "data": {
      "application/vnd.jupyter.widget-view+json": {
       "model_id": "02150ec4ce984d42b7d76d89be6d22a0",
       "version_major": 2,
       "version_minor": 0
      },
      "text/plain": [
       "MetricVisualizer(layout=Layout(align_self='stretch', height='500px'))"
      ]
     },
     "metadata": {},
     "output_type": "display_data"
    },
    {
     "name": "stdout",
     "output_type": "stream",
     "text": [
      "training fm6.2 : Ni_6.2T_min...\n"
     ]
    },
    {
     "data": {
      "application/vnd.jupyter.widget-view+json": {
       "model_id": "c24bed1d1e1c46c49e7a28597ee4d67f",
       "version_major": 2,
       "version_minor": 0
      },
      "text/plain": [
       "MetricVisualizer(layout=Layout(align_self='stretch', height='500px'))"
      ]
     },
     "metadata": {},
     "output_type": "display_data"
    },
    {
     "name": "stdout",
     "output_type": "stream",
     "text": [
      "training fm6.2 : Ni_6.2T_max...\n"
     ]
    },
    {
     "data": {
      "application/vnd.jupyter.widget-view+json": {
       "model_id": "5c25b1cd370b4e21abf194b08cf15b5f",
       "version_major": 2,
       "version_minor": 0
      },
      "text/plain": [
       "MetricVisualizer(layout=Layout(align_self='stretch', height='500px'))"
      ]
     },
     "metadata": {},
     "output_type": "display_data"
    },
    {
     "name": "stdout",
     "output_type": "stream",
     "text": [
      "training fm6.2 : Ni_6.2C_min...\n"
     ]
    },
    {
     "data": {
      "application/vnd.jupyter.widget-view+json": {
       "model_id": "00a4eec1c8af4fc9bd60dcc4797168ac",
       "version_major": 2,
       "version_minor": 0
      },
      "text/plain": [
       "MetricVisualizer(layout=Layout(align_self='stretch', height='500px'))"
      ]
     },
     "metadata": {},
     "output_type": "display_data"
    },
    {
     "name": "stdout",
     "output_type": "stream",
     "text": [
      "training fm6.2 : Ni_6.2C_max...\n"
     ]
    },
    {
     "data": {
      "application/vnd.jupyter.widget-view+json": {
       "model_id": "b21e16cc62e347b1af10b85a84a94b5b",
       "version_major": 2,
       "version_minor": 0
      },
      "text/plain": [
       "MetricVisualizer(layout=Layout(align_self='stretch', height='500px'))"
      ]
     },
     "metadata": {},
     "output_type": "display_data"
    }
   ],
   "source": [
    "for floatmachine_name in dfd_tt.keys():\n",
    "\n",
    "    train = dfd_tt[floatmachine_name]['train']\n",
    "    test = dfd_tt[floatmachine_name]['test']\n",
    "\n",
    "    output_features = [f.replace(\"_y\", \"\") for f in test.columns.tolist() if \"_y\" in f] \n",
    "    train = train.dropna(subset=output_features)\n",
    "    \n",
    "    for output_feature in output_features:\n",
    "        print(f\"training {floatmachine_name} : {output_feature}...\")\n",
    "        \n",
    "        features_to_train_on = train.columns.tolist()\n",
    "        features_to_train_on.remove('MEAS_DT')\n",
    "        features_to_train_on = [f for f in features_to_train_on if not \"min\" in f and \"max\" not in f] \n",
    "        \n",
    "        train_pool = Pool(train[features_to_train_on], label=train[output_feature])\n",
    "        test_pool = Pool(test[features_to_train_on], label=test[output_feature + \"_X\"])\n",
    "        \n",
    "        model = CatBoostRegressor()\n",
    "\n",
    "        model.fit(train_pool, eval_set=test_pool, use_best_model=True, plot=True, silent=True)\n",
    "        \n",
    "        models[f\"{floatmachine_name}:{output_feature}\"] = model"
   ]
  },
  {
   "cell_type": "code",
   "execution_count": null,
   "metadata": {},
   "outputs": [],
   "source": []
  }
 ],
 "metadata": {
  "kernelspec": {
   "display_name": "venv",
   "language": "python",
   "name": "python3"
  },
  "language_info": {
   "codemirror_mode": {
    "name": "ipython",
    "version": 3
   },
   "file_extension": ".py",
   "mimetype": "text/x-python",
   "name": "python",
   "nbconvert_exporter": "python",
   "pygments_lexer": "ipython3",
   "version": "3.12.7"
  }
 },
 "nbformat": 4,
 "nbformat_minor": 2
}
