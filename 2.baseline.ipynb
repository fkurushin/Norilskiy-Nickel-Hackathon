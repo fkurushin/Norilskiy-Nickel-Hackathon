{
 "cells": [
  {
   "cell_type": "code",
   "execution_count": 10,
   "metadata": {},
   "outputs": [],
   "source": [
    "import re\n",
    "import pandas as pd\n",
    "from datetime import datetime"
   ]
  },
  {
   "cell_type": "code",
   "execution_count": 19,
   "metadata": {},
   "outputs": [],
   "source": [
    "df = pd.read_csv(\"data/df_hack_final_processed.csv\")\n",
    "df = df.astype({'MEAS_DT': 'datetime64[ns]'})"
   ]
  },
  {
   "cell_type": "code",
   "execution_count": null,
   "metadata": {},
   "outputs": [],
   "source": [
    "def get_dataframe_per_fm(df, i, j):\n",
    "    non_digit_features = [col for col in df.columns.tolist() if not re.findall(r'\\d+', col)]\n",
    "    filtered_columns_1 = [col for col in df.columns.tolist() if re.findall(f'{i}\\\\.{j}', col)]\n",
    "    filtered_columns_2 = [col for col in df.columns.tolist() if re.findall(f'_{i}$', col)]\n",
    "    return df[non_digit_features+filtered_columns_1+filtered_columns_2]\n",
    "\n",
    "dfd = {f\"fm{i}.{j}\" : get_dataframe_per_fm(df, i, j) for j in range(1,3) for i in range(1,7)}"
   ]
  },
  {
   "cell_type": "code",
   "execution_count": 21,
   "metadata": {},
   "outputs": [],
   "source": [
    "test_dataframe = pd.read_csv(\"data/test.csv\")\n",
    "test_dataframe = test_dataframe.astype({'MEAS_DT': 'datetime64[ns]'})"
   ]
  },
  {
   "cell_type": "code",
   "execution_count": 22,
   "metadata": {},
   "outputs": [],
   "source": [
    "dfd_test = {f\"fm{i}.{j}\" : get_dataframe_per_fm(test_dataframe, i, j) for j in range(1, 3) for i in range(1, 7)}"
   ]
  },
  {
   "cell_type": "code",
   "execution_count": 23,
   "metadata": {},
   "outputs": [],
   "source": [
    "def train_test_split(train_, test_):\n",
    "    train = pd.concat([train_, test_]).drop_duplicates(subset='MEAS_DT', keep=False)\n",
    "    test = pd.merge(test_, train_, how='inner', on='MEAS_DT', suffixes=('_y', '_X'))\n",
    "    return {\n",
    "        \"train\" : train, \n",
    "        \"test\" : test\n",
    "        }"
   ]
  },
  {
   "cell_type": "code",
   "execution_count": 24,
   "metadata": {},
   "outputs": [],
   "source": [
    "dfd_tt = {k : train_test_split(df_train_fm, dfd_test[k]) for k, df_train_fm in dfd.items()}"
   ]
  },
  {
   "cell_type": "markdown",
   "metadata": {},
   "source": [
    "## CatBoost"
   ]
  },
  {
   "cell_type": "code",
   "execution_count": 29,
   "metadata": {},
   "outputs": [],
   "source": [
    "from catboost import CatBoostRegressor, Pool\n",
    "from sklearn.metrics import mean_absolute_error\n",
    "import numpy as np"
   ]
  },
  {
   "cell_type": "code",
   "execution_count": 30,
   "metadata": {},
   "outputs": [],
   "source": [
    "from collections import defaultdict"
   ]
  },
  {
   "cell_type": "code",
   "execution_count": 31,
   "metadata": {},
   "outputs": [],
   "source": [
    "models = {}\n",
    "mae_values = defaultdict()\n",
    "mape_values = defaultdict()"
   ]
  },
  {
   "cell_type": "code",
   "execution_count": 32,
   "metadata": {},
   "outputs": [],
   "source": [
    "def mean_absolute_percentage_error(y_true, y_pred):\n",
    "    return np.mean(np.abs((y_true - y_pred) / y_true)) * 100"
   ]
  },
  {
   "cell_type": "code",
   "execution_count": 41,
   "metadata": {},
   "outputs": [
    {
     "data": {
      "text/plain": [
       "dict_keys(['fm1.1', 'fm2.1', 'fm3.1', 'fm4.1', 'fm5.1', 'fm6.1', 'fm1.2', 'fm2.2', 'fm3.2', 'fm4.2', 'fm5.2', 'fm6.2'])"
      ]
     },
     "execution_count": 41,
     "metadata": {},
     "output_type": "execute_result"
    }
   ],
   "source": [
    "dfd_tt.keys()"
   ]
  },
  {
   "cell_type": "code",
   "execution_count": null,
   "metadata": {},
   "outputs": [
    {
     "name": "stdout",
     "output_type": "stream",
     "text": [
      "training fm1.1 : Ni_1.1C_min...\n",
      "Metrics for fm1.1 : Ni_1.1C_min\n",
      "Train MAE: 0.0831, Train MAPE: 3.1357%\n",
      "Test MAE: 0.074, Test MAPE: 2.7001%\n",
      "----------------------------------//----------------------------------\n",
      "training fm1.1 : Ni_1.1C_max...\n",
      "Metrics for fm1.1 : Ni_1.1C_max\n",
      "Train MAE: 0.0818, Train MAPE: 2.6839%\n",
      "Test MAE: 0.0813, Test MAPE: 2.6651%\n",
      "----------------------------------//----------------------------------\n",
      "training fm1.1 : Cu_1.1C_min...\n",
      "Metrics for fm1.1 : Cu_1.1C_min\n",
      "Train MAE: 0.0436, Train MAPE: 0.9841%\n",
      "Test MAE: 0.0472, Test MAPE: 1.0607%\n",
      "----------------------------------//----------------------------------\n",
      "training fm1.1 : Cu_1.1C_max...\n",
      "Metrics for fm1.1 : Cu_1.1C_max\n",
      "Train MAE: 0.049, Train MAPE: 1.0463%\n",
      "Test MAE: 0.0536, Test MAPE: 1.1567%\n",
      "----------------------------------//----------------------------------\n",
      "training fm2.1 : Cu_2.1T_min...\n",
      "Metrics for fm2.1 : Cu_2.1T_min\n",
      "Train MAE: 0.0048, Train MAPE: 1.2941%\n",
      "Test MAE: 0.0052, Test MAPE: 1.5664%\n",
      "----------------------------------//----------------------------------\n",
      "training fm2.1 : Cu_2.1T_max...\n",
      "Metrics for fm2.1 : Cu_2.1T_max\n",
      "Train MAE: 0.0061, Train MAPE: 1.4384%\n",
      "Test MAE: 0.0064, Test MAPE: 1.6348%\n",
      "----------------------------------//----------------------------------\n",
      "training fm3.1 : Cu_3.1T_min...\n",
      "Metrics for fm3.1 : Cu_3.1T_min\n",
      "Train MAE: 0.1283, Train MAPE: 15.0629%\n",
      "Test MAE: 0.1553, Test MAPE: 12.6397%\n",
      "----------------------------------//----------------------------------\n",
      "training fm3.1 : Cu_3.1T_max...\n",
      "Metrics for fm3.1 : Cu_3.1T_max\n",
      "Train MAE: 0.2795, Train MAPE: 17.0651%\n",
      "Test MAE: 0.3174, Test MAPE: 16.5896%\n",
      "----------------------------------//----------------------------------\n",
      "training fm4.1 : Ni_4.1T_min...\n",
      "Metrics for fm4.1 : Ni_4.1T_min\n",
      "Train MAE: 0.007, Train MAPE: 0.981%\n",
      "Test MAE: 0.0074, Test MAPE: 1.0171%\n",
      "----------------------------------//----------------------------------\n",
      "training fm4.1 : Ni_4.1T_max...\n",
      "Metrics for fm4.1 : Ni_4.1T_max\n",
      "Train MAE: 0.0079, Train MAPE: 1.0444%\n",
      "Test MAE: 0.0085, Test MAPE: 1.1126%\n",
      "----------------------------------//----------------------------------\n",
      "training fm4.1 : Ni_4.1C_min...\n",
      "Metrics for fm4.1 : Ni_4.1C_min\n",
      "Train MAE: 0.0515, Train MAPE: 1.1419%\n",
      "Test MAE: 0.0507, Test MAPE: 1.0967%\n",
      "----------------------------------//----------------------------------\n",
      "training fm4.1 : Ni_4.1C_max...\n",
      "Metrics for fm4.1 : Ni_4.1C_max\n",
      "Train MAE: 0.0542, Train MAPE: 1.1248%\n",
      "Test MAE: 0.0559, Test MAPE: 1.1477%\n",
      "----------------------------------//----------------------------------\n",
      "training fm5.1 : Ni_5.1T_min...\n",
      "Metrics for fm5.1 : Ni_5.1T_min\n",
      "Train MAE: 0.0079, Train MAPE: 1.1319%\n",
      "Test MAE: 0.008, Test MAPE: 1.1496%\n",
      "----------------------------------//----------------------------------\n",
      "training fm5.1 : Ni_5.1T_max...\n",
      "Metrics for fm5.1 : Ni_5.1T_max\n",
      "Train MAE: 0.0114, Train MAPE: 1.4136%\n",
      "Test MAE: 0.0091, Test MAPE: 1.2531%\n",
      "----------------------------------//----------------------------------\n",
      "training fm5.1 : Ni_5.1C_min...\n",
      "Metrics for fm5.1 : Ni_5.1C_min\n",
      "Train MAE: 0.076, Train MAPE: 1.2046%\n",
      "Test MAE: 0.0738, Test MAPE: 1.1389%\n",
      "----------------------------------//----------------------------------\n",
      "training fm5.1 : Ni_5.1C_max...\n",
      "Metrics for fm5.1 : Ni_5.1C_max\n",
      "Train MAE: 0.0625, Train MAPE: 0.9371%\n",
      "Test MAE: 0.0607, Test MAPE: 0.9005%\n",
      "----------------------------------//----------------------------------\n",
      "training fm6.1 : Ni_6.1T_min...\n",
      "Metrics for fm6.1 : Ni_6.1T_min\n",
      "Train MAE: 0.015, Train MAPE: 1.0659%\n",
      "Test MAE: 0.0163, Test MAPE: 1.1631%\n",
      "----------------------------------//----------------------------------\n",
      "training fm6.1 : Ni_6.1T_max...\n",
      "Metrics for fm6.1 : Ni_6.1T_max\n",
      "Train MAE: 0.0175, Train MAPE: 1.1883%\n",
      "Test MAE: 0.0172, Test MAPE: 1.1796%\n",
      "----------------------------------//----------------------------------\n",
      "training fm6.1 : Ni_6.1C_min...\n",
      "Metrics for fm6.1 : Ni_6.1C_min\n",
      "Train MAE: 0.0944, Train MAPE: 1.0545%\n",
      "Test MAE: 0.1029, Test MAPE: 1.1331%\n",
      "----------------------------------//----------------------------------\n",
      "training fm6.1 : Ni_6.1C_max...\n",
      "Metrics for fm6.1 : Ni_6.1C_max\n",
      "Train MAE: 0.0946, Train MAPE: 1.0032%\n",
      "Test MAE: 0.1102, Test MAPE: 1.1645%\n",
      "----------------------------------//----------------------------------\n",
      "training fm1.2 : Ni_1.2C_min...\n",
      "Metrics for fm1.2 : Ni_1.2C_min\n",
      "Train MAE: 0.072, Train MAPE: 2.6203%\n",
      "Test MAE: 0.0697, Test MAPE: 2.45%\n",
      "----------------------------------//----------------------------------\n",
      "training fm1.2 : Ni_1.2C_max...\n",
      "Metrics for fm1.2 : Ni_1.2C_max\n",
      "Train MAE: 0.0695, Train MAPE: 2.2043%\n",
      "Test MAE: 0.0686, Test MAPE: 2.205%\n",
      "----------------------------------//----------------------------------\n",
      "training fm1.2 : Cu_1.2C_min...\n",
      "Metrics for fm1.2 : Cu_1.2C_min\n",
      "Train MAE: 0.0848, Train MAPE: 1.8218%\n",
      "Test MAE: 0.0775, Test MAPE: 1.6005%\n",
      "----------------------------------//----------------------------------\n",
      "training fm1.2 : Cu_1.2C_max...\n",
      "Metrics for fm1.2 : Cu_1.2C_max\n",
      "Train MAE: 0.1072, Train MAPE: 2.047%\n",
      "Test MAE: 0.0832, Test MAPE: 1.6458%\n",
      "----------------------------------//----------------------------------\n",
      "training fm2.2 : Cu_2.2T_min...\n",
      "Metrics for fm2.2 : Cu_2.2T_min\n",
      "Train MAE: 0.0047, Train MAPE: 1.0924%\n",
      "Test MAE: 0.0058, Test MAPE: 1.3613%\n",
      "----------------------------------//----------------------------------\n",
      "training fm2.2 : Cu_2.2T_max...\n",
      "Metrics for fm2.2 : Cu_2.2T_max\n",
      "Train MAE: 0.0063, Train MAPE: 1.3524%\n",
      "Test MAE: 0.0068, Test MAPE: 1.5007%\n",
      "----------------------------------//----------------------------------\n",
      "training fm3.2 : Cu_3.2T_min...\n",
      "Metrics for fm3.2 : Cu_3.2T_min\n",
      "Train MAE: 0.0696, Train MAPE: 6.5019%\n",
      "Test MAE: 0.0862, Test MAPE: 7.0566%\n",
      "----------------------------------//----------------------------------\n",
      "training fm3.2 : Cu_3.2T_max...\n",
      "Metrics for fm3.2 : Cu_3.2T_max\n",
      "Train MAE: 0.1724, Train MAPE: 10.7599%\n",
      "Test MAE: 0.1471, Test MAPE: 9.9603%\n",
      "----------------------------------//----------------------------------\n",
      "training fm4.2 : Ni_4.2T_min...\n",
      "Metrics for fm4.2 : Ni_4.2T_min\n",
      "Train MAE: 0.0135, Train MAPE: 1.746%\n",
      "Test MAE: 0.0123, Test MAPE: 1.6647%\n",
      "----------------------------------//----------------------------------\n",
      "training fm4.2 : Ni_4.2T_max...\n",
      "Metrics for fm4.2 : Ni_4.2T_max\n",
      "Train MAE: 0.0143, Train MAPE: 1.6809%\n",
      "Test MAE: 0.0164, Test MAPE: 1.7557%\n",
      "----------------------------------//----------------------------------\n",
      "training fm4.2 : Ni_4.2C_min...\n",
      "Metrics for fm4.2 : Ni_4.2C_min\n",
      "Train MAE: 0.0775, Train MAPE: 2.0114%\n",
      "Test MAE: 0.079, Test MAPE: 1.9505%\n",
      "----------------------------------//----------------------------------\n",
      "training fm4.2 : Ni_4.2C_max...\n",
      "Metrics for fm4.2 : Ni_4.2C_max\n",
      "Train MAE: 0.0646, Train MAPE: 1.5193%\n",
      "Test MAE: 0.0721, Test MAPE: 1.6517%\n",
      "----------------------------------//----------------------------------\n",
      "training fm5.2 : Ni_5.2T_min...\n",
      "Metrics for fm5.2 : Ni_5.2T_min\n",
      "Train MAE: 0.0089, Train MAPE: 1.2691%\n",
      "Test MAE: 0.0082, Test MAPE: 1.189%\n",
      "----------------------------------//----------------------------------\n",
      "training fm5.2 : Ni_5.2T_max...\n",
      "Metrics for fm5.2 : Ni_5.2T_max\n",
      "Train MAE: 0.0104, Train MAPE: 1.3413%\n",
      "Test MAE: 0.0087, Test MAPE: 1.2103%\n",
      "----------------------------------//----------------------------------\n",
      "training fm5.2 : Ni_5.2C_min...\n",
      "Metrics for fm5.2 : Ni_5.2C_min\n",
      "Train MAE: 0.0999, Train MAPE: 1.5491%\n",
      "Test MAE: 0.1145, Test MAPE: 1.698%\n",
      "----------------------------------//----------------------------------\n",
      "training fm5.2 : Ni_5.2C_max...\n",
      "Metrics for fm5.2 : Ni_5.2C_max\n",
      "Train MAE: 0.1025, Train MAPE: 1.4858%\n",
      "Test MAE: 0.1086, Test MAPE: 1.5183%\n",
      "----------------------------------//----------------------------------\n",
      "training fm6.2 : Ni_6.2T_min...\n",
      "Metrics for fm6.2 : Ni_6.2T_min\n",
      "Train MAE: 0.0335, Train MAPE: 2.5954%\n",
      "Test MAE: 0.0357, Test MAPE: 2.8088%\n",
      "----------------------------------//----------------------------------\n",
      "training fm6.2 : Ni_6.2T_max...\n",
      "Metrics for fm6.2 : Ni_6.2T_max\n",
      "Train MAE: 0.0379, Train MAPE: 2.659%\n",
      "Test MAE: 0.0383, Test MAPE: 2.7649%\n",
      "----------------------------------//----------------------------------\n",
      "training fm6.2 : Ni_6.2C_min...\n",
      "Metrics for fm6.2 : Ni_6.2C_min\n",
      "Train MAE: 0.0643, Train MAPE: 0.713%\n",
      "Test MAE: 0.0741, Test MAPE: 0.8021%\n",
      "----------------------------------//----------------------------------\n",
      "training fm6.2 : Ni_6.2C_max...\n",
      "Metrics for fm6.2 : Ni_6.2C_max\n",
      "Train MAE: 0.0601, Train MAPE: 0.6424%\n",
      "Test MAE: 0.0668, Test MAPE: 0.7072%\n",
      "----------------------------------//----------------------------------\n"
     ]
    }
   ],
   "source": [
    "for floatmachine_name in dfd_tt.keys():\n",
    "\n",
    "    train = dfd_tt[floatmachine_name]['train']\n",
    "    test = dfd_tt[floatmachine_name]['test']\n",
    "\n",
    "    output_features = [f.replace(\"_y\", \"\") for f in test.columns.tolist() if \"_y\" in f]\n",
    "    train = train.dropna(subset=output_features)\n",
    "\n",
    "    for output_feature in output_features:\n",
    "        print(f\"training {floatmachine_name} : {output_feature}...\")\n",
    "\n",
    "        features_to_train_on = train.columns.tolist()\n",
    "        features_to_train_on.remove('MEAS_DT')\n",
    "        features_to_train_on = [f for f in features_to_train_on if not \"min\" in f and \"max\" not in f]\n",
    "\n",
    "        train_pool = Pool(train[features_to_train_on], label=train[output_feature])\n",
    "        test_pool = Pool(test[features_to_train_on], label=test[output_feature + \"_X\"])\n",
    "\n",
    "        model = CatBoostRegressor()\n",
    "\n",
    "        model.fit(train_pool, eval_set=test_pool, use_best_model=True, plot=False, silent=True)\n",
    "\n",
    "        train_predictions = model.predict(train_pool)\n",
    "        test_predictions = model.predict(test_pool)\n",
    "\n",
    "        train_mae = mean_absolute_error(train[output_feature], train_predictions)\n",
    "        test_mae = mean_absolute_error(test[output_feature + \"_X\"], test_predictions)\n",
    "\n",
    "        train_mape = mean_absolute_percentage_error(train[output_feature], train_predictions)\n",
    "        test_mape = mean_absolute_percentage_error(test[output_feature + \"_X\"], test_predictions)\n",
    "\n",
    "        mae_values[output_feature] = test_mae\n",
    "        mape_values[output_feature] = test_mape\n",
    "\n",
    "        print(f\"Metrics for {floatmachine_name} : {output_feature}\")\n",
    "        print(f\"Train MAE: {round(train_mae, 4)}, Train MAPE: {round(train_mape, 4)}%\")\n",
    "        print(f\"Test MAE: {round(test_mae, 4)}, Test MAPE: {round(test_mape, 4)}%\")\n",
    "        print(\"----------------------------------//----------------------------------\")\n",
    "\n",
    "        models[f\"{floatmachine_name}:{output_feature}\"] = model"
   ]
  },
  {
   "cell_type": "code",
   "execution_count": 34,
   "metadata": {},
   "outputs": [
    {
     "name": "stdout",
     "output_type": "stream",
     "text": [
      "Mean MAE 0.061\n",
      "Mean MAPE 2.5243%\n"
     ]
    }
   ],
   "source": [
    "mae_list = [v for _,v in mae_values.items()]\n",
    "mape_list = [v for _,v in mape_values.items()]\n",
    "\n",
    "print(f\"Mean MAE {round(sum(mae_list) / len(mae_list), 4)}\")\n",
    "print(f\"Mean MAPE {round(sum(mape_list) / len(mape_list), 4)}%\")"
   ]
  },
  {
   "cell_type": "code",
   "execution_count": null,
   "metadata": {},
   "outputs": [],
   "source": []
  }
 ],
 "metadata": {
  "kernelspec": {
   "display_name": "venv",
   "language": "python",
   "name": "python3"
  },
  "language_info": {
   "codemirror_mode": {
    "name": "ipython",
    "version": 3
   },
   "file_extension": ".py",
   "mimetype": "text/x-python",
   "name": "python",
   "nbconvert_exporter": "python",
   "pygments_lexer": "ipython3",
   "version": "3.12.7"
  }
 },
 "nbformat": 4,
 "nbformat_minor": 2
}
