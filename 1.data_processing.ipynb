{
 "cells": [
  {
   "cell_type": "code",
   "execution_count": 492,
   "metadata": {},
   "outputs": [],
   "source": [
    "import pandas as pd\n",
    "from datetime import datetime\n",
    "\n",
    "import warnings\n",
    "warnings.filterwarnings(\"ignore\")"
   ]
  },
  {
   "cell_type": "code",
   "execution_count": 493,
   "metadata": {},
   "outputs": [],
   "source": [
    "df = pd.read_csv(\"data/df_hack_final.csv\")\n",
    "df = df.astype({'MEAS_DT': 'datetime64[ns]'})"
   ]
  },
  {
   "cell_type": "markdown",
   "metadata": {},
   "source": [
    "Ni_rec – извлечение никеля в готовый никелевый продукт, концентрат (значение может отсутствовать, валидны только меньше 1 и больше 0),"
   ]
  },
  {
   "cell_type": "code",
   "execution_count": 494,
   "metadata": {},
   "outputs": [],
   "source": [
    "import numpy as np\n",
    "\n",
    "def ni_processing(ni_val):\n",
    "    if ni_val >= 1:\n",
    "        return np.nan\n",
    "    elif ni_val < 0:\n",
    "        return np.nan\n",
    "    else:\n",
    "        return ni_val"
   ]
  },
  {
   "cell_type": "code",
   "execution_count": 495,
   "metadata": {},
   "outputs": [],
   "source": [
    "df['Ni_rec'] = df['Ni_rec'].apply(ni_processing)\n",
    "df['Ni_rec'] = df['Ni_rec'].fillna(method='ffill')"
   ]
  },
  {
   "cell_type": "markdown",
   "metadata": {},
   "source": [
    "Важно! Границы фактического диапазона в файле исходных данных – значения, которые выставляли технологи производства для сервиса оптимизации флотации (по одному на каждую линию флотомашины, например, оптимизатор для ФМ1.1.), чтобы этот оптимизатор генерировал воздействия на рычаги управления флотацией на ФМ, которые обеспечат сходимость к середине этого диапазона. Обратите внимание, что сами границы, как и ширина диапазона – плод интеллектуального труда и фантазии технологов, которые работают посменно. Технолог ведёт процесс, наблюдает за большим кол-вом параметров и не всегда уделяет достаточное внимание оптимизатору и этим диапазонам – учитывайте человеческий фактор! Наиболее релевантные значения – при включении оптимизатора (см смену значения признака с суффиксом AU с 0 на 1). "
   ]
  },
  {
   "cell_type": "code",
   "execution_count": 496,
   "metadata": {},
   "outputs": [],
   "source": [
    "# r\"FM\\d\\\\.\\dA\""
   ]
  },
  {
   "cell_type": "code",
   "execution_count": 497,
   "metadata": {},
   "outputs": [
    {
     "data": {
      "text/plain": [
       "(30336, 130)"
      ]
     },
     "execution_count": 497,
     "metadata": {},
     "output_type": "execute_result"
    }
   ],
   "source": [
    "df.shape"
   ]
  },
  {
   "cell_type": "code",
   "execution_count": 498,
   "metadata": {},
   "outputs": [],
   "source": [
    "df = df[[col for col in df.columns if \"FM\" not in col]]"
   ]
  },
  {
   "cell_type": "code",
   "execution_count": 499,
   "metadata": {},
   "outputs": [
    {
     "data": {
      "text/plain": [
       "(30336, 118)"
      ]
     },
     "execution_count": 499,
     "metadata": {},
     "output_type": "execute_result"
    }
   ],
   "source": [
    "df.shape"
   ]
  },
  {
   "cell_type": "markdown",
   "metadata": {},
   "source": [
    "Основна суть идеи вытекает из `Ограничение 1. Каждый диапазон (признаки min, max) можно изменить не чаще 1 раза в 2 часа (не менее 8 15-минуток подряд с одной и той же парой значений границ).` Тогда можно сказать, что идеальный технолог знал какие значения концентрации будут в будущем и будут переключать их, чтобы границы стали равным min и max концентрациям. Только вот такой инсайт в голову пришел, что, если бы все так было просто, тогда можно было сгенерировать идеальный диапазон для теста и залить. Но так сделать будет нельзя, из-за второго ограничения, которое накладывает некоторую плавность, на перепад этих диапазонов."
   ]
  },
  {
   "cell_type": "code",
   "execution_count": 500,
   "metadata": {},
   "outputs": [],
   "source": [
    "window_size = 8"
   ]
  },
  {
   "cell_type": "code",
   "execution_count": 501,
   "metadata": {},
   "outputs": [],
   "source": [
    "columns_spec = [col for col in df.columns if col.endswith('C') or col.endswith('T') and not col.endswith('DT')]"
   ]
  },
  {
   "cell_type": "code",
   "execution_count": 502,
   "metadata": {},
   "outputs": [],
   "source": [
    "# концентрации которых не хватало\n",
    "for col in columns_spec:\n",
    "    df[col].fillna(method='ffill', inplace=True)"
   ]
  },
  {
   "cell_type": "code",
   "execution_count": 503,
   "metadata": {},
   "outputs": [],
   "source": [
    "# диапазоны которых не хватало\n",
    "for col in columns_spec:\n",
    "    for suffix in [\"_min\", \"_max\"]:\n",
    "        if col + suffix in df.columns:\n",
    "            df[col + suffix].fillna(method='bfill', inplace=True)"
   ]
  },
  {
   "cell_type": "markdown",
   "metadata": {},
   "source": [
    "Идеальная флотомашина работает вот так:"
   ]
  },
  {
   "cell_type": "code",
   "execution_count": 504,
   "metadata": {},
   "outputs": [],
   "source": [
    "for col in columns_spec:\n",
    "    if col + \"_min\" in df.columns and col + \"_max\" in df.columns:\n",
    "        df[col + \"_min_true\"] = df[col].rolling(window=window_size-1, step=window_size-1).min()\n",
    "        df[col + \"_min_true\"].fillna(method='bfill', inplace=True)\n",
    "\n",
    "        df[col + \"_max_true\"] = df[col].rolling(window=window_size-1, step=window_size-1).max()\n",
    "        df[col + \"_max_true\"].fillna(method='bfill', inplace=True)\n",
    "\n",
    "        df[col + \"_min_true\"] = df[col + \"_min_true\"].fillna(df[col + \"_min\"])\n",
    "        df[col + \"_max_true\"] = df[col + \"_max_true\"].fillna(df[col + \"_max\"])"
   ]
  },
  {
   "cell_type": "code",
   "execution_count": 505,
   "metadata": {},
   "outputs": [],
   "source": [
    "import re\n",
    "import math\n",
    "\n",
    "increments = {\n",
    "    'Ni_1.*C': 0.1,\n",
    "    'Cu_1.*C': 0.1,\n",
    "    'Cu_2.*T': 0.01,\n",
    "    'Cu_3.*T': 0.05,\n",
    "    'Ni_4.*T': 0.01,\n",
    "    'Ni_4.*C': 0.05,\n",
    "    'Ni_5.*T': 0.01,\n",
    "    'Ni_5.*C': 0.05,\n",
    "    'Ni_6.*T': 0.01,\n",
    "    'Ni_6.*C': 0.05\n",
    "}\n",
    "\n",
    "def round_up(value, increment):\n",
    "    if value:\n",
    "        return math.ceil(value / increment) * increment\n",
    "    else:\n",
    "        return value\n",
    "\n",
    "def round_down(value, increment):\n",
    "    if value:\n",
    "        return math.floor(value / increment) * increment\n",
    "    else:\n",
    "        return value\n",
    "\n",
    "\n",
    "for column in df.columns:\n",
    "    if len(column) > 6:\n",
    "        increment = column[:5] + \"*\" + column[6]\n",
    "        if increment in increments:\n",
    "            increment = increments[column[:5] + \"*\" + column[6]]\n",
    "            if column.endswith(\"min_true\"):\n",
    "                df[column] = df[column].apply(round_down, args=(increment,))\n",
    "            elif column.endswith(\"max_true\"):\n",
    "                df[column] = df[column].apply(round_up, args=(increment,))\n",
    "            else:\n",
    "                continue\n",
    "        else:\n",
    "            continue"
   ]
  },
  {
   "cell_type": "markdown",
   "metadata": {},
   "source": [
    "### MAE и MAPE для технологов"
   ]
  },
  {
   "cell_type": "code",
   "execution_count": 506,
   "metadata": {},
   "outputs": [],
   "source": [
    "from catboost import CatBoostRegressor, Pool\n",
    "from sklearn.metrics import mean_absolute_error\n",
    "import numpy as np"
   ]
  },
  {
   "cell_type": "code",
   "execution_count": 507,
   "metadata": {},
   "outputs": [],
   "source": [
    "def mean_absolute_percentage_error(y_true, y_pred):\n",
    "    return np.mean(np.abs((y_true - y_pred) / y_true)) * 100"
   ]
  },
  {
   "cell_type": "code",
   "execution_count": 508,
   "metadata": {},
   "outputs": [],
   "source": [
    "from collections import defaultdict"
   ]
  },
  {
   "cell_type": "code",
   "execution_count": 509,
   "metadata": {},
   "outputs": [],
   "source": [
    "mae_values = defaultdict()\n",
    "mape_values = defaultdict()"
   ]
  },
  {
   "cell_type": "code",
   "execution_count": 510,
   "metadata": {},
   "outputs": [],
   "source": [
    "for col in columns_spec:\n",
    "    for suffix in [\"_min\", \"_max\"]:\n",
    "        if col + suffix in df.columns:\n",
    "            train_mae = mean_absolute_error(df[col + suffix], df[col + suffix + \"_true\"])\n",
    "            test_mae = mean_absolute_error(df[col + suffix], df[col + suffix + \"_true\"])\n",
    "\n",
    "            train_mape = mean_absolute_percentage_error(df[col + suffix], df[col + suffix + \"_true\"])\n",
    "            test_mape = mean_absolute_percentage_error(df[col + suffix], df[col + suffix + \"_true\"])\n",
    "\n",
    "            mae_values[col + suffix] = test_mae\n",
    "            mape_values[col + suffix] = test_mape"
   ]
  },
  {
   "cell_type": "code",
   "execution_count": 511,
   "metadata": {},
   "outputs": [
    {
     "name": "stdout",
     "output_type": "stream",
     "text": [
      "Mean MAE 0.4457\n",
      "Mean MAPE 12.6848%\n"
     ]
    }
   ],
   "source": [
    "mae_list = [v for _,v in mae_values.items()]\n",
    "mape_list = [v for _,v in mape_values.items()]\n",
    "\n",
    "print(f\"Mean MAE {round(sum(mae_list) / len(mae_list), 4)}\")\n",
    "print(f\"Mean MAPE {round(sum(mape_list) / len(mape_list), 4)}%\")"
   ]
  },
  {
   "cell_type": "code",
   "execution_count": 512,
   "metadata": {},
   "outputs": [],
   "source": [
    "old_true_columns = []\n",
    "for col in columns_spec:\n",
    "    for suffix in [\"_min\", \"_max\"]:\n",
    "        if col + suffix in df.columns:\n",
    "            old_true_columns.append(col+suffix)"
   ]
  },
  {
   "cell_type": "code",
   "execution_count": 513,
   "metadata": {},
   "outputs": [
    {
     "data": {
      "text/plain": [
       "(30336, 170)"
      ]
     },
     "execution_count": 513,
     "metadata": {},
     "output_type": "execute_result"
    }
   ],
   "source": [
    "df.shape"
   ]
  },
  {
   "cell_type": "code",
   "execution_count": 514,
   "metadata": {},
   "outputs": [],
   "source": [
    "df = df.drop(old_true_columns, axis=1)"
   ]
  },
  {
   "cell_type": "code",
   "execution_count": 515,
   "metadata": {},
   "outputs": [],
   "source": [
    "df = df.rename(columns=dict(zip([col for col in df.columns if \"true\" in col], [col.replace(\"_true\", \"\") for col in df.columns if \"true\" in col])))"
   ]
  },
  {
   "cell_type": "markdown",
   "metadata": {},
   "source": [
    "простая проверка на валидность полученных данных"
   ]
  },
  {
   "cell_type": "code",
   "execution_count": 516,
   "metadata": {},
   "outputs": [],
   "source": [
    "test = pd.read_csv(\"data/test.csv\")"
   ]
  },
  {
   "cell_type": "code",
   "execution_count": 517,
   "metadata": {},
   "outputs": [],
   "source": [
    "test.drop('MEAS_DT', inplace=True, axis=1)"
   ]
  },
  {
   "cell_type": "code",
   "execution_count": 518,
   "metadata": {},
   "outputs": [
    {
     "data": {
      "text/plain": [
       "set()"
      ]
     },
     "execution_count": 518,
     "metadata": {},
     "output_type": "execute_result"
    }
   ],
   "source": [
    "set(test.columns.tolist()).difference(set([col for col in df.columns if \"min\" in col or \"max\" in col]))"
   ]
  },
  {
   "cell_type": "markdown",
   "metadata": {},
   "source": [
    "даже немного больше можем предсказать - не проблема, уберем эти колонки тоже"
   ]
  },
  {
   "cell_type": "code",
   "execution_count": 519,
   "metadata": {},
   "outputs": [],
   "source": [
    "diff = set(set([col for col in df.columns if \"min\" in col or \"max\" in col])).difference(test.columns.tolist())"
   ]
  },
  {
   "cell_type": "code",
   "execution_count": 520,
   "metadata": {},
   "outputs": [
    {
     "data": {
      "text/plain": [
       "{'Cu_2.1C_max',\n",
       " 'Cu_2.1C_min',\n",
       " 'Cu_2.2C_max',\n",
       " 'Cu_2.2C_min',\n",
       " 'Cu_3.1C_max',\n",
       " 'Cu_3.1C_min',\n",
       " 'Cu_3.2C_max',\n",
       " 'Cu_3.2C_min',\n",
       " 'Ni_1.1T_max',\n",
       " 'Ni_1.1T_min',\n",
       " 'Ni_1.2T_max',\n",
       " 'Ni_1.2T_min',\n",
       " 'Ni_3.1C_max',\n",
       " 'Ni_3.1C_min',\n",
       " 'Ni_3.2C_max',\n",
       " 'Ni_3.2C_min'}"
      ]
     },
     "execution_count": 520,
     "metadata": {},
     "output_type": "execute_result"
    }
   ],
   "source": [
    "diff"
   ]
  },
  {
   "cell_type": "code",
   "execution_count": 521,
   "metadata": {},
   "outputs": [],
   "source": [
    "df = df.drop(diff, axis=1)"
   ]
  },
  {
   "cell_type": "code",
   "execution_count": 522,
   "metadata": {},
   "outputs": [
    {
     "data": {
      "text/plain": [
       "(30336, 102)"
      ]
     },
     "execution_count": 522,
     "metadata": {},
     "output_type": "execute_result"
    }
   ],
   "source": [
    "df.shape"
   ]
  },
  {
   "cell_type": "code",
   "execution_count": 523,
   "metadata": {},
   "outputs": [],
   "source": [
    "df.to_csv(\"data/df_hack_final_processed.csv\", index=None)"
   ]
  },
  {
   "cell_type": "code",
   "execution_count": 524,
   "metadata": {},
   "outputs": [
    {
     "data": {
      "text/plain": [
       "{'MEAS_DT': 0,\n",
       " 'Cu_oreth': 4123,\n",
       " 'Ni_oreth': 4123,\n",
       " 'Ore_mass': 0,\n",
       " 'Mass_1': 0,\n",
       " 'Mass_2': 0,\n",
       " 'Dens_4': 0,\n",
       " 'Mass_4': 0,\n",
       " 'Vol_4': 0,\n",
       " 'Cu_4F': 4253,\n",
       " 'Ni_4F': 4253,\n",
       " 'Ni_4.1C': 0,\n",
       " 'Ni_4.1T': 0,\n",
       " 'Ni_4.2C': 0,\n",
       " 'Ni_4.2T': 0,\n",
       " 'Dens_5': 0,\n",
       " 'Mass_5': 0,\n",
       " 'Vol_5': 0,\n",
       " 'Ni_5F': 5887,\n",
       " 'Ni_5.1C': 0,\n",
       " 'Ni_5.1T': 0,\n",
       " 'Ni_5.2C': 0,\n",
       " 'Ni_5.2T': 0,\n",
       " 'Dens_6': 0,\n",
       " 'Mass_6': 0,\n",
       " 'Vol_6': 0,\n",
       " 'Ni_6F': 3167,\n",
       " 'Ni_6.1C': 0,\n",
       " 'Ni_6.1T': 0,\n",
       " 'Ni_6.2C': 0,\n",
       " 'Ni_6.2T': 0,\n",
       " 'Cu_resth': 3919,\n",
       " 'Ni_resth': 3919,\n",
       " 'Cu_1.1C': 0,\n",
       " 'Ni_1.1C': 0,\n",
       " 'Cu_1.2C': 0,\n",
       " 'Ni_1.2C': 0,\n",
       " 'Cu_2F': 5907,\n",
       " 'Ni_2F': 5907,\n",
       " 'Cu_2.1C': 0,\n",
       " 'Ni_2.1C': 0,\n",
       " 'Cu_2.2C': 0,\n",
       " 'Ni_2.2C': 0,\n",
       " 'Cu_3F': 6741,\n",
       " 'Ni_3F': 6741,\n",
       " 'Cu_3.1C': 0,\n",
       " 'Ni_3.1C': 0,\n",
       " 'Cu_3.2C': 0,\n",
       " 'Ni_3.2C': 0,\n",
       " 'Cu_2.1T': 0,\n",
       " 'Ni_2.1T': 0,\n",
       " 'Cu_2.2T': 0,\n",
       " 'Ni_2.2T': 0,\n",
       " 'Cu_3.1T': 0,\n",
       " 'Ni_3.1T': 0,\n",
       " 'Cu_3.2T': 0,\n",
       " 'Ni_3.2T': 0,\n",
       " 'Dens_3': 0,\n",
       " 'Dens_1': 0,\n",
       " 'Dens_2': 0,\n",
       " 'Mass_3': 0,\n",
       " 'Ni_rec': 2,\n",
       " 'Ni_4.1C_min': 0,\n",
       " 'Ni_4.1C_max': 0,\n",
       " 'Ni_4.1T_min': 0,\n",
       " 'Ni_4.1T_max': 0,\n",
       " 'Ni_4.2C_min': 0,\n",
       " 'Ni_4.2C_max': 0,\n",
       " 'Ni_4.2T_min': 0,\n",
       " 'Ni_4.2T_max': 0,\n",
       " 'Ni_5.1C_min': 0,\n",
       " 'Ni_5.1C_max': 0,\n",
       " 'Ni_5.1T_min': 0,\n",
       " 'Ni_5.1T_max': 0,\n",
       " 'Ni_5.2C_min': 0,\n",
       " 'Ni_5.2C_max': 0,\n",
       " 'Ni_5.2T_min': 0,\n",
       " 'Ni_5.2T_max': 0,\n",
       " 'Ni_6.1C_min': 0,\n",
       " 'Ni_6.1C_max': 0,\n",
       " 'Ni_6.1T_min': 0,\n",
       " 'Ni_6.1T_max': 0,\n",
       " 'Ni_6.2C_min': 0,\n",
       " 'Ni_6.2C_max': 0,\n",
       " 'Ni_6.2T_min': 0,\n",
       " 'Ni_6.2T_max': 0,\n",
       " 'Cu_1.1C_min': 0,\n",
       " 'Cu_1.1C_max': 0,\n",
       " 'Ni_1.1C_min': 0,\n",
       " 'Ni_1.1C_max': 0,\n",
       " 'Cu_1.2C_min': 0,\n",
       " 'Cu_1.2C_max': 0,\n",
       " 'Ni_1.2C_min': 0,\n",
       " 'Ni_1.2C_max': 0,\n",
       " 'Cu_2.1T_min': 0,\n",
       " 'Cu_2.1T_max': 0,\n",
       " 'Cu_2.2T_min': 0,\n",
       " 'Cu_2.2T_max': 0,\n",
       " 'Cu_3.1T_min': 0,\n",
       " 'Cu_3.1T_max': 0,\n",
       " 'Cu_3.2T_min': 0,\n",
       " 'Cu_3.2T_max': 0}"
      ]
     },
     "execution_count": 524,
     "metadata": {},
     "output_type": "execute_result"
    }
   ],
   "source": [
    "df.isna().sum().to_dict()"
   ]
  },
  {
   "cell_type": "code",
   "execution_count": null,
   "metadata": {},
   "outputs": [],
   "source": []
  }
 ],
 "metadata": {
  "kernelspec": {
   "display_name": "venv",
   "language": "python",
   "name": "python3"
  },
  "language_info": {
   "codemirror_mode": {
    "name": "ipython",
    "version": 3
   },
   "file_extension": ".py",
   "mimetype": "text/x-python",
   "name": "python",
   "nbconvert_exporter": "python",
   "pygments_lexer": "ipython3",
   "version": "3.12.7"
  }
 },
 "nbformat": 4,
 "nbformat_minor": 2
}
